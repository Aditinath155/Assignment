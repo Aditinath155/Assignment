{
  "nbformat": 4,
  "nbformat_minor": 0,
  "metadata": {
    "colab": {
      "provenance": []
    },
    "kernelspec": {
      "name": "python3",
      "display_name": "Python 3"
    },
    "language_info": {
      "name": "python"
    }
  },
  "cells": [
    {
      "cell_type": "code",
      "execution_count": null,
      "metadata": {
        "colab": {
          "base_uri": "https://localhost:8080/"
        },
        "id": "34hvUs64tu-O",
        "outputId": "2ba9527d-712b-41c1-cb9b-5e5c42d179fc"
      },
      "outputs": [
        {
          "output_type": "stream",
          "name": "stdout",
          "text": [
            "Enter value for Kilometer:- 2\n",
            "2.0 kilometer =  1.242 miles\n"
          ]
        }
      ],
      "source": [
        "#Write a Python program to convert kilometers to miles?\n",
        "#1 km= .621 mile\n",
        "km = float(input('Enter value for Kilometer:- '))\n",
        "convert = km*0.621\n",
        "print(f'{km} kilometer =  {convert} miles')\n"
      ]
    },
    {
      "cell_type": "code",
      "source": [
        "# 2.Write a Python program to convert Celsius to Fahrenheit?\n",
        "#0 celcius = 32 ferenhit\n",
        "celcius = float(input('Number enter for Celcius:- '))\n",
        "convert = (celcius*9/5)+32\n",
        "print(f'{celcius} Celcius = {convert} F')"
      ],
      "metadata": {
        "colab": {
          "base_uri": "https://localhost:8080/"
        },
        "id": "SvYrPTZ7ujha",
        "outputId": "0156e7b0-6a3c-40a1-c6ab-e6d0dac0c938"
      },
      "execution_count": null,
      "outputs": [
        {
          "output_type": "stream",
          "name": "stdout",
          "text": [
            "Number enter for Celcius:- 2\n",
            "2.0 Celcius = 35.6 F\n"
          ]
        }
      ]
    },
    {
      "cell_type": "code",
      "source": [
        "# Write a Python program to display calendar?\n",
        "#import library for display calender\n",
        "import calendar\n",
        "yy = int(input('Which Year you want to see:- '))\n",
        "mm = int(input('Mention the month:- '))\n",
        "print(calendar.month(yy,mm))\n"
      ],
      "metadata": {
        "colab": {
          "base_uri": "https://localhost:8080/"
        },
        "id": "njKMF6XMwQJw",
        "outputId": "4e7caa23-1f19-4bf2-f4fb-788feb63722b"
      },
      "execution_count": null,
      "outputs": [
        {
          "output_type": "stream",
          "name": "stdout",
          "text": [
            "Which Year you want to see:- 1999\n",
            "Mention the month:- 5\n",
            "      May 1999\n",
            "Mo Tu We Th Fr Sa Su\n",
            "                1  2\n",
            " 3  4  5  6  7  8  9\n",
            "10 11 12 13 14 15 16\n",
            "17 18 19 20 21 22 23\n",
            "24 25 26 27 28 29 30\n",
            "31\n",
            "\n"
          ]
        }
      ]
    },
    {
      "cell_type": "code",
      "source": [
        "# 4. Write a Python program to solve quadratic equation?\n",
        "import math\n",
        "print('Welcome To The Quardatic Equation')\n",
        "a = int(input('Enter the value a:- '))\n",
        "b = int(input('Enter the value b:- '))\n",
        "c = int(input('Enter the value c:- '))\n",
        "b_sqr = math.pow(b,b)\n",
        "sqroot = math.sqrt(b_sqr-4*a*c)\n",
        "positive = (-b + sqroot)/2*a\n",
        "negative = (-b - sqroot)/2*a\n",
        "print(positive)\n",
        "print(negative)\n",
        "\n"
      ],
      "metadata": {
        "colab": {
          "base_uri": "https://localhost:8080/"
        },
        "id": "FToqksHIy1Lr",
        "outputId": "329afe00-e408-42a8-ba3a-71061dc2578e"
      },
      "execution_count": null,
      "outputs": [
        {
          "output_type": "stream",
          "name": "stdout",
          "text": [
            "Welcome To The Quardatic Equation\n",
            "Enter the value a:- 2\n",
            "Enter the value b:- 4\n",
            "Enter the value c:- 4\n",
            "10.966629547095765\n",
            "-18.966629547095764\n"
          ]
        }
      ]
    },
    {
      "cell_type": "code",
      "source": [
        "import cmath\n",
        "a = int(input('Enter the value a:- '))\n",
        "b = int(input('Enter the value b:- '))\n",
        "c = int(input('Enter the value c:- '))\n",
        "# calculate the discriminant\n",
        "d = (b**2) - (4*a*c)\n",
        "\n",
        "# find two solutions\n",
        "sol1 = (-b-cmath.sqrt(d))/(2*a)\n",
        "sol2 = (-b+cmath.sqrt(d))/(2*a)\n",
        "\n",
        "print('The solution are {0} and {1}'.format(sol1,sol2))"
      ],
      "metadata": {
        "colab": {
          "base_uri": "https://localhost:8080/"
        },
        "id": "zf11DHcK6WbF",
        "outputId": "e1802d76-ae0a-42ef-a189-ff5c5fc5c0d9"
      },
      "execution_count": null,
      "outputs": [
        {
          "output_type": "stream",
          "name": "stdout",
          "text": [
            "Enter the value a:- 2\n",
            "Enter the value b:- 4\n",
            "Enter the value c:- 4\n",
            "The solution are (-1-1j) and (-1+1j)\n"
          ]
        }
      ]
    },
    {
      "cell_type": "code",
      "source": [
        "#Write a Python program to swap two variables without temp variable?\n",
        "a= 'new'\n",
        "b = 'mobile'\n",
        "a,b =b,a\n",
        "\n",
        "print(a)\n",
        "print(b)"
      ],
      "metadata": {
        "colab": {
          "base_uri": "https://localhost:8080/"
        },
        "id": "Kah0Kyn_wDb9",
        "outputId": "5a08bd04-5d29-4165-ffc1-b4c96bfe558d"
      },
      "execution_count": null,
      "outputs": [
        {
          "output_type": "stream",
          "name": "stdout",
          "text": [
            "mobile\n",
            "new\n"
          ]
        }
      ]
    }
  ]
}