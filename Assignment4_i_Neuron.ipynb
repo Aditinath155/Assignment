{
  "nbformat": 4,
  "nbformat_minor": 0,
  "metadata": {
    "colab": {
      "provenance": []
    },
    "kernelspec": {
      "name": "python3",
      "display_name": "Python 3"
    },
    "language_info": {
      "name": "python"
    }
  },
  "cells": [
    {
      "cell_type": "code",
      "execution_count": null,
      "metadata": {
        "colab": {
          "base_uri": "https://localhost:8080/"
        },
        "id": "3QXimsQzBASy",
        "outputId": "15366334-dca2-4e0a-946b-bb78c21b9004"
      },
      "outputs": [
        {
          "output_type": "stream",
          "name": "stdout",
          "text": [
            "Write a number:- 5\n",
            "120\n"
          ]
        }
      ],
      "source": [
        "# 1. Write a Python Program to Find the Factorial of a Number?\n",
        "#factorial can find out:-\n",
        "#5! = 5*4*3*2*1 =120\n",
        "#5 = 1*2*3*4*5= 120 answer will be same \n",
        "number = int(input('Enter a number:- '))\n",
        "factorial = 1 #We create variable and set in 1 because 1 not change the number\n",
        "for i in range(1, number+1):\n",
        "  factorial *=i\n",
        "print(factorial)\n"
      ]
    },
    {
      "cell_type": "code",
      "source": [
        "#Another in built method\n",
        "import math\n",
        "number = int(input('Write a number:- '))\n",
        "factorial = math.factorial(number)\n",
        "print(factorial)"
      ],
      "metadata": {
        "colab": {
          "base_uri": "https://localhost:8080/"
        },
        "id": "EkCj7WVkFIDZ",
        "outputId": "91c47e67-1555-4c50-e2c1-40908a3e56a3"
      },
      "execution_count": null,
      "outputs": [
        {
          "output_type": "stream",
          "name": "stdout",
          "text": [
            "Write a number:- 5\n",
            "120\n"
          ]
        }
      ]
    },
    {
      "cell_type": "code",
      "source": [
        "# 2. Write a Python Program to Display the multiplication Table?\n",
        "number = int(input('Enter a number:- '))\n",
        "for i in range(1,11):\n",
        "  print(number,'x',i, '=',number*i)\n"
      ],
      "metadata": {
        "colab": {
          "base_uri": "https://localhost:8080/"
        },
        "id": "xQq6Z2YHQCuk",
        "outputId": "c31a4044-1708-4951-a23e-dee0ce30d1e3"
      },
      "execution_count": null,
      "outputs": [
        {
          "output_type": "stream",
          "name": "stdout",
          "text": [
            "Enter a number:- 7\n",
            "7 x 1 = 7\n",
            "7 x 2 = 14\n",
            "7 x 3 = 21\n",
            "7 x 4 = 28\n",
            "7 x 5 = 35\n",
            "7 x 6 = 42\n",
            "7 x 7 = 49\n",
            "7 x 8 = 56\n",
            "7 x 9 = 63\n",
            "7 x 10 = 70\n"
          ]
        }
      ]
    },
    {
      "cell_type": "code",
      "source": [
        "# 3. Write a Python Program to Print the Fibonacci sequence?\n",
        "n_terms = int(input(\"Enter the number of terms: \"))\n",
        "\n",
        "# First two terms of the Fibonacci sequence\n",
        "num1, num2 = 0, 1\n",
        "count = 0\n",
        "\n",
        "# Check if the number of terms is valid\n",
        "if n_terms <= 0:\n",
        "   print(\"Please enter a positive integer\")\n",
        "elif n_terms == 1:\n",
        "   print(\"Fibonacci sequence upto\",n_terms,\":\")\n",
        "   print(num1)\n",
        "else:\n",
        "   print(\"Fibonacci sequence:\")\n",
        "   while count < n_terms:\n",
        "       print(num1)\n",
        "       nth = num1 + num2\n",
        "       # update values\n",
        "       num1 = num2\n",
        "       num2 = nth\n",
        "       count += 1\n"
      ],
      "metadata": {
        "colab": {
          "base_uri": "https://localhost:8080/"
        },
        "id": "b03TQLh4bdQk",
        "outputId": "e3c8231a-8502-4df2-ad3a-c1d88ebd940e"
      },
      "execution_count": null,
      "outputs": [
        {
          "output_type": "stream",
          "name": "stdout",
          "text": [
            "Enter the number of terms: 6\n",
            "Fibonacci sequence:\n",
            "0\n",
            "1\n",
            "1\n",
            "2\n",
            "3\n",
            "5\n"
          ]
        }
      ]
    },
    {
      "cell_type": "code",
      "source": [
        "# 4. Write a Python Program to Check Armstrong Number?\n",
        "number = int(input('Enter a number to check whether it is armstrong number or not '))\n",
        "digits = len(str(number))\n",
        "temp = number\n",
        "add_sum = 0\n",
        "while temp != 0:\n",
        "    # get the last digit in the number\n",
        "    k = temp % 10\n",
        "    # find k^digits\n",
        "    add_sum += k**digits\n",
        "    # floor division\n",
        "    # which update number with second last digit as last digit\n",
        "    temp = temp//10\n",
        "if add_sum == number:\n",
        "    print('Given number is an Armstrong Number')\n",
        "else:\n",
        "    print('Given number is not a Armstrong Number')"
      ],
      "metadata": {
        "colab": {
          "base_uri": "https://localhost:8080/"
        },
        "id": "eQ53c7lhm1CX",
        "outputId": "07b83bae-626c-4548-c404-4aa4e331f528"
      },
      "execution_count": null,
      "outputs": [
        {
          "output_type": "stream",
          "name": "stdout",
          "text": [
            "Enter a number to check whether it is armstrong number or not 153\n",
            "Given number is an Armstrong Number\n"
          ]
        }
      ]
    },
    {
      "cell_type": "code",
      "source": [
        "# 5. Write a Python Program to Find Armstrong Number in an Interval?\n",
        "lower_limit = int(input('Enter a number lower number:- '))\n",
        "upper_limit = int(input('Enter a upper number:- '))\n",
        "\n",
        "for num in range(lower_limit, upper_limit+1):\n",
        "  sum = 0\n",
        "  order = len(str(num))\n",
        "  temp = num\n",
        "  while temp>0:\n",
        "    value = temp%10\n",
        "    sum += value**order\n",
        "    temp//=10\n",
        "  if num==sum:1\n",
        "    print(num)\n"
      ],
      "metadata": {
        "colab": {
          "base_uri": "https://localhost:8080/"
        },
        "id": "T5sCHqkagzWt",
        "outputId": "506ed702-a24f-4bcd-a37f-988fd16bde81"
      },
      "execution_count": 12,
      "outputs": [
        {
          "output_type": "stream",
          "name": "stdout",
          "text": [
            "Enter a number lower number:- 100\n",
            "Enter a upper number:- 1000\n",
            "153\n",
            "370\n",
            "371\n",
            "407\n"
          ]
        }
      ]
    },
    {
      "cell_type": "code",
      "source": [
        "# 6. Write a Python Program to Find the Sum of Natural Numbers?\n",
        "num = int(input('Enter a number '))\n",
        "if num < 0:\n",
        "   print(\"Enter a positive number\")\n",
        "else:\n",
        "   sum = 0\n",
        "   # use while loop to iterate until zero\n",
        "   while(num > 0):\n",
        "       sum += num\n",
        "       num -= 1\n",
        "   print(\"The sum is\", sum)"
      ],
      "metadata": {
        "colab": {
          "base_uri": "https://localhost:8080/"
        },
        "id": "ZHZv1V2uqvan",
        "outputId": "25922382-efa2-4ca4-c573-09d357551664"
      },
      "execution_count": null,
      "outputs": [
        {
          "output_type": "stream",
          "name": "stdout",
          "text": [
            "Enter a number 8\n",
            "The sum is 36\n"
          ]
        }
      ]
    }
  ]
}