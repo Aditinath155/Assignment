{
 "cells": [
  {
   "cell_type": "code",
   "execution_count": 2,
   "id": "65d2382f",
   "metadata": {},
   "outputs": [
    {
     "name": "stdout",
     "output_type": "stream",
     "text": [
      "Hello Python\n"
     ]
    }
   ],
   "source": [
    "#1. Write a Python program to print \"Hello Python\"?\n",
    "print(\"Hello Python\")"
   ]
  },
  {
   "cell_type": "code",
   "execution_count": 3,
   "id": "e6790f5e",
   "metadata": {},
   "outputs": [
    {
     "name": "stdout",
     "output_type": "stream",
     "text": [
      "5\n",
      "5.0\n"
     ]
    }
   ],
   "source": [
    "2 \n",
    "a = 2+3\n",
    "print(a)\n",
    "b = 10/2\n",
    "print(b)"
   ]
  },
  {
   "cell_type": "code",
   "execution_count": 6,
   "id": "bd572b59",
   "metadata": {},
   "outputs": [
    {
     "name": "stdout",
     "output_type": "stream",
     "text": [
      "Enter base of the triangle: 6\n",
      "Enter height of the triangle: 8\n",
      "24.0\n"
     ]
    }
   ],
   "source": [
    "## 3. Write a Python program to find the area of a triangle?\n",
    "B = float(input(\"Enter base of the triangle: \"))\n",
    "H = float(input(\"Enter height of the triangle: \"))\n",
    "area_of_triangle = 0.5*B*H\n",
    "print(area_of_triangle)"
   ]
  },
  {
   "cell_type": "code",
   "execution_count": 10,
   "id": "e028c414",
   "metadata": {},
   "outputs": [
    {
     "name": "stdout",
     "output_type": "stream",
     "text": [
      "Enter value of variable a: g\n",
      "Enter value of variable b: i\n",
      "Before swapping: a =  g , b =  i\n",
      "g\n",
      "After swapping: a =  i , b =  g\n"
     ]
    }
   ],
   "source": [
    "# 4. Write a Python program to swap two variables?\n",
    "a = input(\"Enter value of variable a: \")\n",
    "b = input(\"Enter value of variable b: \")\n",
    "\n",
    "# Printing the values of a and b before swapping\n",
    "print(\"Before swapping: a = \", a, \", b = \", b)\n",
    "temp = a\n",
    "a = b\n",
    "b= temp\n",
    "print(b)\n",
    "# Printing the values of a and b after swapping\n",
    "print(\"After swapping: a = \", a, \", b = \", b)"
   ]
  },
  {
   "cell_type": "code",
   "execution_count": 11,
   "id": "ca3ab3af",
   "metadata": {},
   "outputs": [
    {
     "name": "stdout",
     "output_type": "stream",
     "text": [
      "7\n"
     ]
    }
   ],
   "source": [
    "# 5. Write a Python program to generate a random number?\n",
    "import random\n",
    "n= random.randint(1,50)\n",
    "print(n)"
   ]
  },
  {
   "cell_type": "code",
   "execution_count": null,
   "id": "5565ba01",
   "metadata": {},
   "outputs": [],
   "source": []
  }
 ],
 "metadata": {
  "kernelspec": {
   "display_name": "Python 3 (ipykernel)",
   "language": "python",
   "name": "python3"
  },
  "language_info": {
   "codemirror_mode": {
    "name": "ipython",
    "version": 3
   },
   "file_extension": ".py",
   "mimetype": "text/x-python",
   "name": "python",
   "nbconvert_exporter": "python",
   "pygments_lexer": "ipython3",
   "version": "3.9.12"
  }
 },
 "nbformat": 4,
 "nbformat_minor": 5
}
