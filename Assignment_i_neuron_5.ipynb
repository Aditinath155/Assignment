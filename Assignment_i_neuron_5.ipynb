{
  "nbformat": 4,
  "nbformat_minor": 0,
  "metadata": {
    "colab": {
      "provenance": []
    },
    "kernelspec": {
      "name": "python3",
      "display_name": "Python 3"
    },
    "language_info": {
      "name": "python"
    }
  },
  "cells": [
    {
      "cell_type": "code",
      "source": [
        "# 1. Write a Python Program to Find LCM?\n",
        "x = int(input('Enter a number:- '))\n",
        "y = int(input('Enter a number:- '))\n",
        "def CalLCM(x,y):\n",
        "  if (x>y):\n",
        "    greater = x\n",
        "  else:\n",
        "    greater = y\n",
        "\n",
        "  while(True):\n",
        "     if ((greater%x==0) and (greater%y==0)):\n",
        "        LCM = greater\n",
        "        break\n",
        "     greater +=1\n",
        "  return LCM\n",
        "\n",
        "print('The LCM of two number is',CalLCM(x,y))"
      ],
      "metadata": {
        "colab": {
          "base_uri": "https://localhost:8080/"
        },
        "id": "oIQ24IZhDBzS",
        "outputId": "071ee556-eb95-4515-b436-181421b98597"
      },
      "execution_count": null,
      "outputs": [
        {
          "output_type": "stream",
          "name": "stdout",
          "text": [
            "Enter a number:- 12\n",
            "Enter a number:- 30\n",
            "The LCM of two number is 60\n"
          ]
        }
      ]
    },
    {
      "cell_type": "code",
      "execution_count": null,
      "metadata": {
        "colab": {
          "base_uri": "https://localhost:8080/"
        },
        "id": "FpVCOMZA6Okh",
        "outputId": "b045b2d8-f2da-4a2c-d906-a1284d73a186"
      },
      "outputs": [
        {
          "output_type": "stream",
          "name": "stdout",
          "text": [
            "Enter a number:- 15\n",
            "Enter a number:- 30\n",
            "The HCF of two number is 15\n"
          ]
        }
      ],
      "source": [
        "# 2. Write a Python Program to Find HCF?\n",
        "x = int(input('Enter a number:- '))\n",
        "y = int(input('Enter a number:- '))\n",
        "def CalHCF(x,y):\n",
        "  if (x>y):\n",
        "    smaller = y\n",
        "  else:\n",
        "    smaller = x\n",
        "\n",
        "  for i in range(1,smaller+1):\n",
        "     if ((x%i==0) and (y%i==0)):\n",
        "        HCF = i\n",
        "  return HCF\n",
        "\n",
        "print('The HCF of two number is',CalHCF(x,y))"
      ]
    },
    {
      "cell_type": "code",
      "source": [],
      "metadata": {
        "id": "EIuOXmuWhNon"
      },
      "execution_count": null,
      "outputs": []
    },
    {
      "cell_type": "code",
      "source": [
        "# 3. Writ,e a Python Program to Convert Decimal to Binary, Octal and Hexadecimal?\n",
        "# Python program to convert decimal into other number systems\n",
        "dec = int(input('Enter a number '))\n",
        "\n",
        "print(\"The decimal value of\", dec, \"is:\")\n",
        "print(bin(dec), \"in binary.\")\n",
        "print(oct(dec), \"in octal.\")\n",
        "print(hex(dec), \"in hexadecimal.\")"
      ],
      "metadata": {
        "id": "octDdYGTFDOA",
        "colab": {
          "base_uri": "https://localhost:8080/"
        },
        "outputId": "22a6611e-7299-47db-d7f8-2d0bfc41b444"
      },
      "execution_count": null,
      "outputs": [
        {
          "output_type": "stream",
          "name": "stdout",
          "text": [
            "Enter a number800\n",
            "The decimal value of 800 is:\n",
            "0b1100100000 in binary.\n",
            "0o1440 in octal.\n",
            "0x320 in hexadecimal.\n"
          ]
        }
      ]
    },
    {
      "cell_type": "code",
      "source": [
        "# 4. Write a Python Program To Find ASCII value of a character?\n",
        "Char = str(input('Enter a character:- '))\n",
        "type(Char)\n",
        "for i in Char:\n",
        "   ascii_val = ord(i)\n",
        "\n",
        "# Print the ASCII value\n",
        "   print(\"The ASCII value of\", i, \"\\t\", ascii_val)\n"
      ],
      "metadata": {
        "colab": {
          "base_uri": "https://localhost:8080/"
        },
        "id": "LKdTIsJEhXaV",
        "outputId": "e35f23e8-8f53-48a2-d0dd-308c11dc73d4"
      },
      "execution_count": null,
      "outputs": [
        {
          "output_type": "stream",
          "name": "stdout",
          "text": [
            "Enter a character:- asap\n",
            "The ASCII value of a \t 97\n",
            "The ASCII value of s \t 115\n",
            "The ASCII value of a \t 97\n",
            "The ASCII value of p \t 112\n"
          ]
        }
      ]
    },
    {
      "cell_type": "code",
      "source": [
        "# 5. Write a Python Program to Make a Simple Calculator with 4 basic mathematical operations?\n",
        "num1 = float(input(\"Enter the first number: \"))\n",
        "num2 = float(input(\"Enter the second number: \"))\n",
        "op = input(\"Enter the operator (+, -, *, /): \")\n",
        "\n",
        "def calculator(num1,num2,op):\n",
        "  \n",
        "  if op == '+':\n",
        "        return num1 + num2\n",
        "  elif op == '-':\n",
        "        return num1 - num2\n",
        "  elif op == '*':\n",
        "        return num1 * num2\n",
        "  elif op == '/':\n",
        "        if num2 == 0:\n",
        "            return \"Error: Division by zero\"\n",
        "        else:\n",
        "            return num1 / num2\n",
        "  else:\n",
        "        return \"Error: Invalid Operator\"\n",
        "\n",
        "result = calculator(num1, num2, op)\n",
        "print(\"Result: \", result)\n"
      ],
      "metadata": {
        "id": "V8ONbCPmpVLP",
        "colab": {
          "base_uri": "https://localhost:8080/"
        },
        "outputId": "85f665b7-a232-49c3-a25c-baefd178e493"
      },
      "execution_count": 26,
      "outputs": [
        {
          "output_type": "stream",
          "name": "stdout",
          "text": [
            "Enter the first number: 9\n",
            "Enter the second number: 9\n",
            "Enter the operator (+, -, *, /): +\n",
            "Result:  18.0\n"
          ]
        }
      ]
    }
  ]
}